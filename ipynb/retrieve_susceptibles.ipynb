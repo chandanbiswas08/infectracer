{
 "cells": [
  {
   "cell_type": "code",
   "execution_count": 1,
   "metadata": {},
   "outputs": [],
   "source": [
    "import numpy as np \n",
    "import sys \n",
    "import nmslib \n",
    "import time \n",
    "import math \n",
    "import random as r\n",
    "from sklearn.neighbors import NearestNeighbors"
   ]
  },
  {
   "cell_type": "code",
   "execution_count": 38,
   "metadata": {},
   "outputs": [],
   "source": [
    "INDEX_FILE = 'spacetime_index.bin'\n",
    "index = nmslib.init(method='hnsw', space='l2')\n",
    "index.loadIndex(INDEX_FILE, load_data=False)"
   ]
  },
  {
   "cell_type": "code",
   "execution_count": 39,
   "metadata": {},
   "outputs": [],
   "source": [
    "def get_cartesian(lat=None, lon=None):\n",
    "    lat, lon = np.deg2rad(lat), np.deg2rad(lon)\n",
    "    R = 6371 # radius of the earth\n",
    "    x = R * np.cos(lat) * np.cos(lon)\n",
    "    y = R * np.cos(lat) * np.sin(lon)\n",
    "    z = R *np.sin(lat)\n",
    "    return x,y,z"
   ]
  },
  {
   "cell_type": "code",
   "execution_count": 40,
   "metadata": {},
   "outputs": [
    {
     "name": "stdout",
     "output_type": "stream",
     "text": [
      "[5953.985470538183, -2167.0734865293475, -665.9508394782202, 330074]\n"
     ]
    }
   ],
   "source": [
    "def genRandomQuery(min_time, max_time):\n",
    "    MIN_LAT, MAX_LAT = -20, 20\n",
    "    MIN_LONG, MAX_LONG = -20, 20\n",
    "    \n",
    "    lat = r.randrange(MIN_LAT, MAX_LAT)\n",
    "    long = r.randrange(MIN_LONG, MAX_LONG)\n",
    "    t = r.randrange(min_time, max_time)\n",
    "    \n",
    "    x, y, z = get_cartesian(lat, long)    \n",
    "    return [x, y, z, t-min_time]\n",
    "    \n",
    "query_data = genRandomQuery(1333476006, 1334096862)\n",
    "print (query_data)"
   ]
  },
  {
   "cell_type": "code",
   "execution_count": 41,
   "metadata": {},
   "outputs": [
    {
     "name": "stdout",
     "output_type": "stream",
     "text": [
      "207542: 1643.8272705078125\n",
      "207311: 1658.125244140625\n",
      "207779: 1674.6558837890625\n"
     ]
    }
   ],
   "source": [
    "#q_data = np.random.randn(10000, 100).astype(np.float32)\n",
    "K=3\n",
    "nn_info = index.knnQuery(query_data, k=K)\n",
    "nn_ids = nn_info[0]\n",
    "distances = nn_info[1]\n",
    "\n",
    "for i in range(0, K):\n",
    "    print (\"{}: {}\".format(nn_ids[i], distances[i]))"
   ]
  },
  {
   "cell_type": "code",
   "execution_count": 47,
   "metadata": {},
   "outputs": [
    {
     "name": "stdout",
     "output_type": "stream",
     "text": [
      "[3, 4]\n"
     ]
    }
   ],
   "source": [
    "print(r.sample([1, 2, 3, 4], 2))"
   ]
  },
  {
   "cell_type": "code",
   "execution_count": null,
   "metadata": {},
   "outputs": [],
   "source": []
  }
 ],
 "metadata": {
  "kernelspec": {
   "display_name": "Python 3",
   "language": "python",
   "name": "python3"
  },
  "language_info": {
   "codemirror_mode": {
    "name": "ipython",
    "version": 3
   },
   "file_extension": ".py",
   "mimetype": "text/x-python",
   "name": "python",
   "nbconvert_exporter": "python",
   "pygments_lexer": "ipython3",
   "version": "3.7.4"
  }
 },
 "nbformat": 4,
 "nbformat_minor": 4
}
